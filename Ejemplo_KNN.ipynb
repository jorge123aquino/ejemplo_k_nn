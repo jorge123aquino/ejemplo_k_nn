{
  "nbformat": 4,
  "nbformat_minor": 0,
  "metadata": {
    "colab": {
      "provenance": [],
      "collapsed_sections": [
        "R4BIKPXp0V2F"
      ],
      "authorship_tag": "ABX9TyOuKoxTuKTPklNt6l4+lKaD",
      "include_colab_link": true
    },
    "kernelspec": {
      "name": "python3",
      "display_name": "Python 3"
    },
    "language_info": {
      "name": "python"
    }
  },
  "cells": [
    {
      "cell_type": "markdown",
      "metadata": {
        "id": "view-in-github",
        "colab_type": "text"
      },
      "source": [
        "<a href=\"https://colab.research.google.com/github/jorge123aquino/ejemplo_k_nn/blob/main/Ejemplo_KNN.ipynb\" target=\"_parent\"><img src=\"https://colab.research.google.com/assets/colab-badge.svg\" alt=\"Open In Colab\"/></a>"
      ]
    },
    {
      "cell_type": "markdown",
      "source": [
        "## Ejemplo K NN I"
      ],
      "metadata": {
        "id": "IAvHaDyn0Lad"
      }
    },
    {
      "cell_type": "code",
      "source": [
        "#cargando bibliotecas\n",
        "import numpy as np\n",
        "import matplotlib.pyplot as plt\n"
      ],
      "metadata": {
        "id": "aGLXVxisyJiT"
      },
      "execution_count": 2,
      "outputs": []
    },
    {
      "cell_type": "code",
      "source": [
        "#Generando conjunto de datos aleatorio\n",
        "X = np.random.rand(50, 2)\n",
        "y = np.zeros((50,1))\n",
        "y[25:] = 1\n"
      ],
      "metadata": {
        "id": "9wNYPBqKyKb6"
      },
      "execution_count": 3,
      "outputs": []
    },
    {
      "cell_type": "code",
      "source": [
        "#Creando función distancia euclidiana\n",
        "def euclidean_distance(x1, x2):\n",
        "    return np.sqrt(np.sum((x1 - x2)**2))\n"
      ],
      "metadata": {
        "id": "TapvQDJryNLr"
      },
      "execution_count": 4,
      "outputs": []
    },
    {
      "cell_type": "code",
      "source": [
        "#KNN\n",
        "def knn(X, query_point, k):\n",
        "    distances = []\n",
        "    for i in range(len(X)):\n",
        "        distance = euclidean_distance(X[i], query_point)\n",
        "        distances.append((distance, i))\n",
        "    distances = sorted(distances)\n",
        "    neighbors = distances[:k]\n",
        "    return neighbors\n",
        "\n",
        "# Definimos el objeto para el cual queremos encontrar los vecinos más cercanos\n",
        "query_point = np.array([0.5, 0.5])\n",
        "\n",
        "# Encontramos los vecinos más cercanos\n",
        "neighbors = knn(X, query_point, k=6) #<------- MOVIENDO K = 1, K=2, K=3,... K=n SE PUEDE OBSERVAR EL COMPORTAMIENTO DEL ALGORITMO\n",
        "\n",
        "# Graficamos los objetos en nuestro conjunto de datos\n",
        "plt.scatter(X[:, 0], X[:, 1], c=y.flatten())\n",
        "\n",
        "# Graficamos el objeto para el cual queremos encontrar los vecinos más cercanos\n",
        "plt.scatter(query_point[0], query_point[1], c='red')\n",
        "\n",
        "# Graficamos los vecinos más cercanos\n",
        "for neighbor in neighbors:\n",
        "    idx = neighbor[1]\n",
        "    plt.plot([query_point[0], X[idx, 0]], [query_point[1], X[idx, 1]], 'r--', lw=2)\n",
        "\n",
        "# Mostramos la gráfica\n",
        "plt.show()\n"
      ],
      "metadata": {
        "colab": {
          "base_uri": "https://localhost:8080/",
          "height": 265
        },
        "id": "piR0O0ZwyRxH",
        "outputId": "b2737d34-1878-43ac-c62b-0eff36709b97"
      },
      "execution_count": 5,
      "outputs": [
        {
          "output_type": "display_data",
          "data": {
            "text/plain": [
              "<Figure size 432x288 with 1 Axes>"
            ],
            "image/png": "[encoded data removed]"
          },
          "metadata": {
            "needs_background": "light"
          }
        }
      ]
    },
    {
      "cell_type": "markdown",
      "source": [
        "## Ejemplo K NN II"
      ],
      "metadata": {
        "id": "R4BIKPXp0V2F"
      }
    },
    {
      "cell_type": "code",
      "source": [
        "#IMPORTAR BIBLIOTECAS\n",
        "import numpy as np\n",
        "import matplotlib.pyplot as plt\n",
        "from collections import Counter\n"
      ],
      "metadata": {
        "id": "6ZTMd3FKmh5j"
      },
      "execution_count": 14,
      "outputs": []
    },
    {
      "cell_type": "code",
      "source": [
        "# Creamos un conjunto de datos de ejemplo\n",
        "X = np.array([[1, 2], [2, 1], [2, 3], [3, 2], [4, 2], [4, 4], [5, 3], [6, 2], [6, 4], [7, 3], [8, 2], [8, 4], [9, 1], [9, 3]])\n",
        "y = np.array([0, 0, 0, 0, 0, 1, 1, 1, 1, 1, 1, 1, 1, 1])\n"
      ],
      "metadata": {
        "id": "GR3Rmdb6ol8P"
      },
      "execution_count": 15,
      "outputs": []
    },
    {
      "cell_type": "code",
      "source": [
        "#Creando función de distancia euclidiana\n",
        "def distancia(x1, x2):\n",
        "    return np.sqrt(np.sum((x1 - x2)**2))\n"
      ],
      "metadata": {
        "id": "Px9khh9topyU"
      },
      "execution_count": 1,
      "outputs": []
    },
    {
      "cell_type": "code",
      "source": [
        "#KNN\n",
        "def knn(X_train, y_train, x_test, k):\n",
        "    distancias = []\n",
        "    for i in range(len(X_train)):\n",
        "        dist = distancia(X_train[i], x_test)\n",
        "        distancias.append((dist, y_train[i]))\n",
        "    distancias = sorted(distancias)\n",
        "    k_vecinos = distancias[:k]\n",
        "    etiquetas_vecinos = [vecino[1] for vecino in k_vecinos]\n",
        "    contador = Counter(etiquetas_vecinos)\n",
        "    etiqueta = contador.most_common()[0][0]\n",
        "    return etiqueta\n"
      ],
      "metadata": {
        "id": "LmZ0o6rYosDU"
      },
      "execution_count": 17,
      "outputs": []
    },
    {
      "cell_type": "code",
      "source": [
        "# Graficar el conjunto de datos de ejemplo\n",
        "plt.scatter(X[:, 0], X[:, 1], c=y)\n",
        "\n",
        "# Clasificar algunos puntos de prueba y graficarlos\n",
        "for punto in [[3, 3], [5, 2], [6, 3]]:\n",
        "    etiqueta = knn(X, y, punto, 3)\n",
        "    plt.scatter(punto[0], punto[1], c='purple', marker='x')\n",
        "    plt.annotate(f\"Clase: {etiqueta}\", xy=(punto[0], punto[1]), xytext=(punto[0]+0.5, punto[1]+0.2))\n",
        "\n",
        "    # Encontrar los k vecinos más cercanos y graficarlos\n",
        "    distancias = []\n",
        "    for i in range(len(X)):\n",
        "        dist = distancia(X[i], punto)\n",
        "        distancias.append((dist, y[i]))\n",
        "    distancias = sorted(distancias)\n",
        "    k_vecinos = distancias[:3]\n",
        "    for vecino in k_vecinos:\n",
        "        plt.plot([punto[0], X[y == vecino[1]][0][0]], [punto[1], X[y == vecino[1]][0][1]], 'k--', alpha=0.5)\n",
        "\n",
        "plt.show()"
      ],
      "metadata": {
        "colab": {
          "base_uri": "https://localhost:8080/",
          "height": 265
        },
        "id": "CYb13tUeouLG",
        "outputId": "a66f1b39-c55d-44a5-b139-c756b06bccc5"
      },
      "execution_count": 18,
      "outputs": [
        {
          "output_type": "display_data",
          "data": {
            "text/plain": [
              "<Figure size 432x288 with 1 Axes>"
            ],
            "image/png": "[encoded data removed]"
          },
          "metadata": {
            "needs_background": "light"
          }
        }
      ]
    }
  ]
}